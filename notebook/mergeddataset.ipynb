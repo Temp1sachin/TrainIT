{
 "cells": [
  {
   "cell_type": "code",
   "execution_count": 1,
   "metadata": {},
   "outputs": [],
   "source": [
    "import pandas as pd"
   ]
  },
  {
   "cell_type": "code",
   "execution_count": 2,
   "metadata": {},
   "outputs": [],
   "source": [
    "# Load datasets\n",
    "dataset_path1 = \"../data/dataset.csv\"\n",
    "dataset_path2 = \"../data/Rainfall_Data_LL.csv\""
   ]
  },
  {
   "cell_type": "code",
   "execution_count": 3,
   "metadata": {},
   "outputs": [
    {
     "name": "stderr",
     "output_type": "stream",
     "text": [
      "C:\\Users\\hp\\AppData\\Local\\Temp\\ipykernel_6728\\1864950653.py:1: DtypeWarning: Columns (0) have mixed types. Specify dtype option on import or set low_memory=False.\n",
      "  df1 = pd.read_csv(dataset_path1, encoding='ISO-8859-1')\n"
     ]
    }
   ],
   "source": [
    "df1 = pd.read_csv(dataset_path1, encoding='ISO-8859-1')\n",
    "df2 = pd.read_csv(dataset_path2, encoding='ISO-8859-1')\n"
   ]
  },
  {
   "cell_type": "code",
   "execution_count": 4,
   "metadata": {},
   "outputs": [],
   "source": [
    "# Convert date column in AQI dataset to datetime format\n",
    "df1[\"date\"] = pd.to_datetime(df1[\"date\"], errors=\"coerce\")\n"
   ]
  },
  {
   "cell_type": "code",
   "execution_count": 5,
   "metadata": {},
   "outputs": [],
   "source": [
    "# Extract year for merging\n",
    "df1[\"YEAR\"] = df1[\"date\"].dt.year\n"
   ]
  },
  {
   "cell_type": "code",
   "execution_count": 6,
   "metadata": {},
   "outputs": [],
   "source": [
    "# Standardize location names (lowercase, stripped spaces)\n",
    "df1[\"state\"] = df1[\"state\"].str.lower().str.strip()\n",
    "df1[\"location\"] = df1[\"location\"].str.lower().str.strip()\n",
    "df2[\"SUBDIVISION\"] = df2[\"SUBDIVISION\"].str.lower().str.strip()"
   ]
  },
  {
   "cell_type": "code",
   "execution_count": 7,
   "metadata": {},
   "outputs": [],
   "source": [
    "# Merge datasets on state and year\n",
    "merged_df = df1.merge(df2, how=\"left\", left_on=[\"state\", \"YEAR\"], right_on=[\"SUBDIVISION\", \"YEAR\"])\n",
    "\n",
    "# Drop unnecessary columns\n",
    "merged_df = merged_df.drop(columns=[\"SUBDIVISION\", \"Name\"], errors='ignore')\n"
   ]
  },
  {
   "cell_type": "code",
   "execution_count": 8,
   "metadata": {},
   "outputs": [
    {
     "name": "stdout",
     "output_type": "stream",
     "text": [
      "  stn_code       sampling_date           state   location agency  \\\n",
      "0    150.0  February - M021990  andhra pradesh  hyderabad    NaN   \n",
      "1    151.0  February - M021990  andhra pradesh  hyderabad    NaN   \n",
      "2    152.0  February - M021990  andhra pradesh  hyderabad    NaN   \n",
      "3    150.0     March - M031990  andhra pradesh  hyderabad    NaN   \n",
      "4    151.0     March - M031990  andhra pradesh  hyderabad    NaN   \n",
      "\n",
      "                                 type  so2   no2  rspm  spm  ... OCT  NOV DEC  \\\n",
      "0  Residential, Rural and other Areas  4.8  17.4   NaN  NaN  ... NaN  NaN NaN   \n",
      "1                     Industrial Area  3.1   7.0   NaN  NaN  ... NaN  NaN NaN   \n",
      "2  Residential, Rural and other Areas  6.2  28.5   NaN  NaN  ... NaN  NaN NaN   \n",
      "3  Residential, Rural and other Areas  6.3  14.7   NaN  NaN  ... NaN  NaN NaN   \n",
      "4                     Industrial Area  4.7   7.5   NaN  NaN  ... NaN  NaN NaN   \n",
      "\n",
      "   ANNUAL  Jan-Feb  Mar-May  June-September  Oct-Dec  Latitude  Longitude  \n",
      "0     NaN      NaN      NaN             NaN      NaN       NaN        NaN  \n",
      "1     NaN      NaN      NaN             NaN      NaN       NaN        NaN  \n",
      "2     NaN      NaN      NaN             NaN      NaN       NaN        NaN  \n",
      "3     NaN      NaN      NaN             NaN      NaN       NaN        NaN  \n",
      "4     NaN      NaN      NaN             NaN      NaN       NaN        NaN  \n",
      "\n",
      "[5 rows x 33 columns]\n"
     ]
    }
   ],
   "source": [
    "# Save merged dataset\n",
    "merged_df.to_csv(\"../data/merged_dataset.csv\", index=False)\n",
    "\n",
    "# Display sample output\n",
    "print(merged_df.head())"
   ]
  },
  {
   "cell_type": "code",
   "execution_count": null,
   "metadata": {},
   "outputs": [],
   "source": []
  }
 ],
 "metadata": {
  "kernelspec": {
   "display_name": "base",
   "language": "python",
   "name": "python3"
  },
  "language_info": {
   "codemirror_mode": {
    "name": "ipython",
    "version": 3
   },
   "file_extension": ".py",
   "mimetype": "text/x-python",
   "name": "python",
   "nbconvert_exporter": "python",
   "pygments_lexer": "ipython3",
   "version": "3.12.3"
  }
 },
 "nbformat": 4,
 "nbformat_minor": 2
}
