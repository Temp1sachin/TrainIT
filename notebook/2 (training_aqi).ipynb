{
 "cells": [
  {
   "cell_type": "markdown",
   "id": "8c22929d",
   "metadata": {},
   "source": [
    "# 🌍 **Air Quality Index (AQI) Prediction Model** \n",
    "\n",
    "##  Predicting & Analyzing Air Quality Trends  \n",
    "\n",
    "This model uses historical pollution data to forecast AQI levels, helping identify pollution patterns and potential risks over time."
   ]
  },
  {
   "cell_type": "code",
   "execution_count": 1,
   "id": "b6b8899f-d601-4215-ad54-0b0ff07690fa",
   "metadata": {},
   "outputs": [],
   "source": [
    "# Import Necessary Libraries\n",
    "import pandas as pd\n",
    "import numpy as np\n",
    "from sklearn.model_selection import train_test_split\n",
    "from sklearn.ensemble import RandomForestRegressor\n",
    "from sklearn.impute import SimpleImputer\n",
    "from sklearn.metrics import mean_absolute_error, mean_squared_error, r2_score\n",
    "import matplotlib.pyplot as plt\n",
    "import seaborn as sns"
   ]
  },
  {
   "cell_type": "markdown",
   "id": "6ab7f51a",
   "metadata": {},
   "source": [
    "### 🔍 Loading & Inspecting the Dataset  \n",
    "\n",
    "We begin by loading the dataset and analyzing its structure to understand column names, data types, and missing values."
   ]
  },
  {
   "cell_type": "code",
   "execution_count": 2,
   "id": "9149a118-e443-4b93-961c-087d549e8c71",
   "metadata": {},
   "outputs": [
    {
     "name": "stdout",
     "output_type": "stream",
     "text": [
      "  stn_code       sampling_date           state   location agency  \\\n",
      "0      150  February - M021990  Andhra Pradesh  Hyderabad    NaN   \n",
      "1      151  February - M021990  Andhra Pradesh  Hyderabad    NaN   \n",
      "2      152  February - M021990  Andhra Pradesh  Hyderabad    NaN   \n",
      "3      150     March - M031990  Andhra Pradesh  Hyderabad    NaN   \n",
      "4      151     March - M031990  Andhra Pradesh  Hyderabad    NaN   \n",
      "\n",
      "                                 type  so2   no2  rspm  spm  \\\n",
      "0  Residential, Rural and other Areas  4.8  17.4   NaN  NaN   \n",
      "1                     Industrial Area  3.1   7.0   NaN  NaN   \n",
      "2  Residential, Rural and other Areas  6.2  28.5   NaN  NaN   \n",
      "3  Residential, Rural and other Areas  6.3  14.7   NaN  NaN   \n",
      "4                     Industrial Area  4.7   7.5   NaN  NaN   \n",
      "\n",
      "  location_monitoring_station  pm2_5        date  \n",
      "0                         NaN    NaN  1990-02-01  \n",
      "1                         NaN    NaN  1990-02-01  \n",
      "2                         NaN    NaN  1990-02-01  \n",
      "3                         NaN    NaN  1990-03-01  \n",
      "4                         NaN    NaN  1990-03-01  \n"
     ]
    }
   ],
   "source": [
    "# Load the dataset\n",
    "df = pd.read_csv(\"../data/dataset.csv\", encoding=\"ISO-8859-1\", low_memory=False)\n",
    "print(df.head())"
   ]
  },
  {
   "cell_type": "markdown",
   "id": "4a2a298e",
   "metadata": {},
   "source": [
    "## 📅 Extracting Date Features\n",
    "\n",
    "To enhance the predictive power of our model, we extract key date-based features from the dataset:\n",
    "\n",
    "- **Convert `date` column to DateTime format** for easy manipulation.\n",
    "- **Extract `year`, `month`, and `day`** to capture seasonal and yearly trends.\n",
    "- **Compute `day_of_week`** (0 = Monday, 6 = Sunday) to analyze weekly patterns.\n",
    "- **Create `is_weekend` feature** (1 if it's Saturday or Sunday, otherwise 0) to differentiate pollution levels on weekends vs. weekdays.\n"
   ]
  },
  {
   "cell_type": "code",
   "execution_count": 3,
   "id": "94572ee4-6112-4be7-95ad-3a9cbe25f22d",
   "metadata": {},
   "outputs": [],
   "source": [
    "# Convert Date to Datetime & Extract Features\n",
    "df['date'] = pd.to_datetime(df['date'])\n",
    "df['year'] = df['date'].dt.year\n",
    "df['month'] = df['date'].dt.month\n",
    "df['day'] = df['date'].dt.day\n",
    "df['day_of_week'] = df['date'].dt.dayofweek\n",
    "df['is_weekend'] = df['day_of_week'].apply(lambda x: 1 if x >= 5 else 0)"
   ]
  },
  {
   "cell_type": "markdown",
   "id": "5dbf42cc",
   "metadata": {},
   "source": [
    "The following function calculates the **Air Quality Index (AQI)** based on major pollutants using **Central Pollution Control Board (CPCB) breakpoints**.\n",
    "\n",
    "\n",
    "### Methodology:\n",
    "- The function takes a row of pollutant data as input.\n",
    "- It checks pollutant concentrations against predefined **breakpoints** (ranges for different AQI levels).\n",
    "- The **sub-index** for each pollutant is calculated using linear interpolation.\n",
    "- The **maximum sub-index** among all pollutants is taken as the final AQI."
   ]
  },
  {
   "cell_type": "code",
   "execution_count": 4,
   "id": "7c42ec30",
   "metadata": {},
   "outputs": [],
   "source": [
    "# CPCB AQI Calculation using all major pollutants\n",
    "def calculate_aqi(row):\n",
    "    breakpoints = {\n",
    "        'pm2_5': [(0, 30, 0, 50), (31, 60, 51, 100), (61, 90, 101, 200), (91, 120, 201, 300), (121, 250, 301, 400)],\n",
    "        'pm10': [(0, 50, 0, 50), (51, 100, 51, 100), (101, 250, 101, 200), (251, 350, 201, 300), (351, 430, 301, 400)],\n",
    "        'no2': [(0, 40, 0, 50), (41, 80, 51, 100), (81, 180, 101, 200), (181, 280, 201, 300), (281, 400, 301, 400)],\n",
    "        'so2': [(0, 40, 0, 50), (41, 80, 51, 100), (81, 380, 101, 200), (381, 800, 201, 300), (801, 1600, 301, 400)],\n",
    "        'co': [(0, 1, 0, 50), (1.1, 2, 51, 100), (2.1, 10, 101, 200), (10.1, 17, 201, 300), (17.1, 34, 301, 400)],\n",
    "        'o3': [(0, 50, 0, 50), (51, 100, 51, 100), (101, 168, 101, 200), (169, 208, 201, 300), (209, 748, 301, 400)]\n",
    "    }\n",
    "    \n",
    "    sub_indices = []\n",
    "    for pollutant, bps in breakpoints.items():\n",
    "        if pollutant in row:\n",
    "            value = row[pollutant]\n",
    "            for c_low, c_high, i_low, i_high in bps:\n",
    "                if c_low <= value <= c_high:\n",
    "                    sub_index = ((i_high - i_low) / (c_high - c_low)) * (value - c_low) + i_low\n",
    "                    sub_indices.append(sub_index)\n",
    "                    break\n",
    "    \n",
    "    return max(sub_indices) if sub_indices else np.nan\n",
    "# Apply AQI calculation to dataset\n",
    "df['AQI'] =df.apply(calculate_aqi, axis=1)"
   ]
  },
  {
   "cell_type": "markdown",
   "id": "9beebb73",
   "metadata": {},
   "source": [
    "## 🎯 Selecting Features & Target for AQI Prediction\n",
    "\n",
    "To train our AQI prediction model, we define:\n",
    "\n",
    "- **Features (`X`)**: The independent variables used for prediction.\n",
    "- **Target (`y`)**: The dependent variable (AQI) that we aim to predict.\n",
    "\n",
    "### 📌 Selected Features:\n",
    "1. **Time-based Features:**\n",
    "   - `year`, `month`, `day`: Capture seasonal variations in AQI.\n",
    "   - `day_of_week`: Helps in analyzing weekly pollution trends.\n",
    "   - `is_weekend`: Identifies differences between weekday and weekend AQI.\n",
    "\n",
    "2. **Pollutant Features:**\n",
    "   - `so2` (Sulfur Dioxide)\n",
    "   - `no2` (Nitrogen Dioxide)\n",
    "   - `pm2_5` (Fine Particulate Matter)  \n",
    "   These pollutants have a **direct impact** on air quality."
   ]
  },
  {
   "cell_type": "code",
   "execution_count": 5,
   "id": "49e4999e-eb2b-4111-b10e-82f5799461c5",
   "metadata": {},
   "outputs": [],
   "source": [
    "# Select Features & Target\n",
    "features = ['year', 'month', 'day', 'day_of_week', 'is_weekend', 'so2', 'no2', 'pm2_5']\n",
    "target = 'AQI'\n",
    "X = df[features]\n",
    "y = df['AQI']"
   ]
  },
  {
   "cell_type": "markdown",
   "id": "97e2c6c5",
   "metadata": {},
   "source": [
    "## 🔧 Handling Missing Values\n",
    "\n",
    "Missing data can negatively impact model performance, so we apply appropriate imputation techniques:\n",
    "\n",
    "### 📌 Strategy:\n",
    "1. **For Features (`X`)**:\n",
    "   - Use `SimpleImputer` with `median` strategy.\n",
    "   - Replaces missing values in numerical columns with the median of each column.\n",
    "   - **Why?** The median is robust against outliers compared to the mean.\n",
    "\n",
    "2. **For Target (`y`)**:\n",
    "   - Use `.fillna(y.median())` to replace missing AQI values with the median."
   ]
  },
  {
   "cell_type": "code",
   "execution_count": 6,
   "id": "ad4e898b-2ab1-44a3-bced-45165f1f88c7",
   "metadata": {},
   "outputs": [],
   "source": [
    "# Handle missing values\n",
    "imputer = SimpleImputer(strategy='median')\n",
    "X = imputer.fit_transform(X)\n",
    "y = y.fillna(y.median())\n"
   ]
  },
  {
   "cell_type": "markdown",
   "id": "75efe28b",
   "metadata": {},
   "source": [
    "## ✂️ Splitting Data for Training & Testing\n",
    "\n",
    "To evaluate the model effectively, we split the dataset into training and testing sets:\n",
    "\n",
    "### 📌 Strategy:\n",
    "- **80% Training Data (`X_train`, `y_train`)**: Used to train the model.\n",
    "- **20% Testing Data (`X_test`, `y_test`)**: Used to assess model performance.\n",
    "- **`random_state=42`**: Ensures reproducibility of results."
   ]
  },
  {
   "cell_type": "code",
   "execution_count": 7,
   "id": "125104c0-9bf7-442d-a36d-7587f28ebc3d",
   "metadata": {},
   "outputs": [],
   "source": [
    "# Split Data\n",
    "X_train, X_test, y_train, y_test = train_test_split(X, y, test_size=0.2, random_state=42)"
   ]
  },
  {
   "cell_type": "markdown",
   "id": "cca51460",
   "metadata": {},
   "source": [
    "## 🌲 Hyperparameter Tuning & Model Training\n",
    "\n",
    "To optimize our **Random Forest Regressor**, we use **RandomizedSearchCV** to find the best hyperparameters and train the model.\n",
    "\n",
    "### 🔍 Step 1: Hyperparameter Tuning\n",
    "We define a **parameter grid** for tuning:\n",
    "- `n_estimators`: Number of trees in the forest.\n",
    "- `max_depth`: Maximum depth of each tree.\n",
    "- `min_samples_split`: Minimum samples required to split a node.\n",
    "- `min_samples_leaf`: Minimum samples required at a leaf node.\n",
    "- `bootstrap`: Whether to use bootstrapped samples.\n",
    "\n",
    "We use **RandomizedSearchCV** for hyperparameter tuning:\n",
    "```python\n",
    "from sklearn.model_selection import RandomizedSearchCV\n",
    "from sklearn.ensemble import RandomForestRegressor\n",
    "import numpy as np\n",
    "\n",
    "# Define parameter grid\n",
    "param_dist = {\n",
    "    'n_estimators': [50, 100, 200, 300],  \n",
    "    'max_depth': [None, 10, 20, 30],     \n",
    "    'min_samples_split': [2, 5, 10],      \n",
    "    'min_samples_leaf': [1, 2, 4],        \n",
    "    'bootstrap': [True, False]            \n",
    "}\n",
    "\n",
    "# Initialize model\n",
    "rf = RandomForestRegressor(random_state=42)\n",
    "\n",
    "# Perform Randomized Search\n",
    "random_search = RandomizedSearchCV(rf, param_distributions=param_dist, \n",
    "                                   n_iter=10, cv=5, scoring='neg_mean_squared_error', \n",
    "                                   verbose=2, n_jobs=-1)\n",
    "\n",
    "# Fit the model\n",
    "random_search.fit(X_train, y_train)\n",
    "\n",
    "# Get best parameters\n",
    "best_params = random_search.best_params_\n",
    "print(\"Best Hyperparameters:\", best_params)\n"
   ]
  },
  {
   "cell_type": "markdown",
   "id": "bd6ccdb8",
   "metadata": {},
   "source": [
    "## 🚀 Step 2: Train the Model with Best Hyperparameters\n",
    "\n",
    "After tuning, we train the **Random Forest Regressor** with the best-found hyperparameters to predict AQI.\n"
   ]
  },
  {
   "cell_type": "code",
   "execution_count": 8,
   "id": "c62bb473",
   "metadata": {},
   "outputs": [],
   "source": [
    "# Import necessary libraries\n",
    "from sklearn.ensemble import RandomForestRegressor\n",
    "from sklearn.metrics import mean_absolute_error, mean_squared_error, r2_score\n",
    "\n",
    "# Train model with best hyperparameters\n",
    "best_rf = RandomForestRegressor(\n",
    "    n_estimators=50, \n",
    "    min_samples_split=5, \n",
    "    min_samples_leaf=1, \n",
    "    max_depth=30, \n",
    "    bootstrap=True, \n",
    "    random_state=42\n",
    ")\n",
    "\n",
    "# Fit the model\n",
    "best_rf.fit(X_train, y_train)\n",
    "\n",
    "# Make predictions\n",
    "y_pred = best_rf.predict(X_test)\n"
   ]
  },
  {
   "cell_type": "code",
   "execution_count": 9,
   "id": "083b095d-dab3-4252-8fa4-394170819f5c",
   "metadata": {},
   "outputs": [],
   "source": [
    "# Predictions\n",
    "y_pred =best_rf.predict(X_test)"
   ]
  },
  {
   "cell_type": "markdown",
   "id": "09e4ee6b",
   "metadata": {},
   "source": [
    "## 📊 Model Evaluation Results & Interpretation\n",
    "\n",
    "After training the model, we analyze its performance using three key metrics:  \n",
    "\n",
    "### 1️⃣ Mean Absolute Error (MAE)  \n",
    "- MAE represents the average absolute difference between the actual and predicted AQI values.  \n",
    "- It provides a simple measure of prediction accuracy without considering the direction of errors.  \n",
    "- **Lower MAE** means the model is making more accurate predictions.\n",
    "\n",
    "### 2️⃣ Root Mean Squared Error (RMSE)  \n",
    "- RMSE is similar to MAE but **penalizes larger errors more heavily** by squaring them before averaging.  \n",
    "- It provides a clearer picture of how much predictions deviate from actual values on average.  \n",
    "- **Lower RMSE** means fewer large deviations in predictions.\n",
    "\n",
    "### 3️⃣ R² Score (Coefficient of Determination)  \n",
    "- R² measures how well the model explains the variability in AQI values.  \n",
    "- It ranges from **0 to 1**, where **1 means perfect predictions** and **0 means the model has no predictive power**.  \n",
    "- **Higher R²** means the model is better at explaining AQI trends.\n",
    "\n",
    "📌 **Key Insights:**  \n",
    "- If **MAE and RMSE are low**, the model is making precise predictions.  \n",
    "- If **R² is close to 1**, the model explains AQI trends well.  \n",
    "- If **errors are high or R² is low**, the model may need improvements like hyperparameter tuning or better feature selection.\n",
    "\n",
    "✅ *These metrics help determine if the model is suitable for AQI forecasting!* 🎯\n"
   ]
  },
  {
   "cell_type": "code",
   "execution_count": 10,
   "id": "26ce5fb8-c910-4f68-8895-9e16b84c0adb",
   "metadata": {},
   "outputs": [
    {
     "name": "stdout",
     "output_type": "stream",
     "text": [
      "MAE: 0.09945446615473812\n",
      "RMSE: 1.1403974299426791\n",
      "R² Score: 0.9978455043045416\n"
     ]
    }
   ],
   "source": [
    "# Evaluate Model\n",
    "print(\"MAE:\", mean_absolute_error(y_test, y_pred))\n",
    "print(\"RMSE:\", np.sqrt(mean_squared_error(y_test, y_pred)))\n",
    "print(\"R² Score:\", r2_score(y_test, y_pred))"
   ]
  },
  {
   "cell_type": "markdown",
   "id": "b3f084c2",
   "metadata": {},
   "source": [
    "### 🌟 **Feature Importance**  \n",
    "\n",
    "This table shows how important each feature (pollutant levels, date-related info) is in predicting AQI."
   ]
  },
  {
   "cell_type": "code",
   "execution_count": 11,
   "id": "9408356d",
   "metadata": {},
   "outputs": [
    {
     "name": "stdout",
     "output_type": "stream",
     "text": [
      "       Feature  Importance\n",
      "6          no2    0.778476\n",
      "7        pm2_5    0.176476\n",
      "5          so2    0.043538\n",
      "0         year    0.000797\n",
      "2          day    0.000331\n",
      "1        month    0.000224\n",
      "3  day_of_week    0.000146\n",
      "4   is_weekend    0.000012\n"
     ]
    }
   ],
   "source": [
    "# Create a DataFrame to store feature importance values\n",
    "feature_importances = pd.DataFrame({\n",
    "    'Feature': features,  # Feature names\n",
    "    'Importance': best_rf.feature_importances_  # Importance scores from the trained model\n",
    "})\n",
    "\n",
    "# Print the features sorted by importance (highest first)\n",
    "print(feature_importances.sort_values(by='Importance', ascending=False))\n"
   ]
  },
  {
   "cell_type": "markdown",
   "id": "624e25b2",
   "metadata": {},
   "source": [
    "### 🔍 **Feature Importance Visualization**  \n",
    "\n",
    "This bar chart shows how important each feature is in predicting AQI using the Random Forest model.  \n",
    "\n",
    "📌 **What This Means:**  \n",
    "✔️ Higher bars indicate features that have a greater impact on AQI predictions.  \n",
    "✔️ Lower bars suggest features that contribute less to the model.  \n",
    "\n",
    "This helps us focus on the most significant factors affecting air quality."
   ]
  },
  {
   "cell_type": "code",
   "execution_count": 12,
   "id": "ebe1f8c0",
   "metadata": {},
   "outputs": [
    {
     "data": {
      "image/png": "[encoded data removed]",
      "text/plain": [
       "<Figure size 800x500 with 1 Axes>"
      ]
     },
     "metadata": {},
     "output_type": "display_data"
    }
   ],
   "source": [
    "# Get feature importance values from the trained model\n",
    "feature_importance = best_rf.feature_importances_\n",
    "\n",
    "# Sort features by importance\n",
    "sorted_idx = np.argsort(feature_importance)\n",
    "\n",
    "# Create a horizontal bar chart\n",
    "plt.figure(figsize=(8, 5))\n",
    "plt.barh(np.array(features)[sorted_idx], feature_importance[sorted_idx])  # Plot sorted feature importance\n",
    "plt.xlabel(\"Feature Importance\")  # Label for x-axis\n",
    "plt.title(\"Random Forest Feature Importance\")  # Title of the plot\n",
    "plt.show()  # Display the chart\n"
   ]
  },
  {
   "cell_type": "markdown",
   "id": "7373cb8a",
   "metadata": {},
   "source": [
    "## 🔮 Future AQI Predictions (2025-2035)\n",
    "\n",
    "- Generated **hypothetical** pollutant levels (SO₂, NO₂, PM2.5) for **April (2025-2035)**.  \n",
    "- Included **time-based features** (day, weekday, weekends).  \n",
    "- Used the trained **Random Forest model** to predict **future AQI**.  \n",
    "\n",
    "📌 *This hypothetical data helps analyze trends and plan for future air quality management.*  \n"
   ]
  },
  {
   "cell_type": "code",
   "execution_count": 13,
   "id": "40166112-b087-441e-b219-cc00276519e6",
   "metadata": {},
   "outputs": [
    {
     "name": "stderr",
     "output_type": "stream",
     "text": [
      "/Users/aameyadevansh/Library/Python/3.9/lib/python/site-packages/sklearn/utils/validation.py:2732: UserWarning: X has feature names, but RandomForestRegressor was fitted without feature names\n",
      "  warnings.warn(\n"
     ]
    }
   ],
   "source": [
    "\n",
    "# Set seed for reproducibility\n",
    "np.random.seed(42)\n",
    "\n",
    "# Generate dates for April from 2025 to 2035\n",
    "years = np.repeat(np.arange(2025, 2036), 30)  # 30 days for each year\n",
    "days = np.tile(np.arange(1, 31), 11)  # Repeat days for 11 years\n",
    "months = [4] * len(years)  # April is month 4\n",
    "day_of_week = days % 7  # Generate weekday info\n",
    "is_weekend = [1 if d % 7 >= 5 else 0 for d in days]  # Identify weekends\n",
    "\n",
    "# Generate random pollutant levels within realistic ranges\n",
    "so2 = np.random.uniform(5, 20, len(years))   # SO2 levels (5-20)\n",
    "no2 = np.random.uniform(10, 50, len(years))  # NO2 levels (10-50)\n",
    "pm2_5 = np.random.uniform(30, 80, len(years))  # PM2.5 levels (30-80)\n",
    "\n",
    "# Create DataFrame\n",
    "future_dates = pd.DataFrame({'year': years, 'month': months, 'day': days,\n",
    "                             'day_of_week': day_of_week, 'is_weekend': is_weekend,\n",
    "                             'so2': so2, 'no2': no2, 'pm2_5': pm2_5})\n",
    "\n",
    "# Predict AQI using trained model\n",
    "future_dates['Predicted_AQI'] = best_rf.predict(future_dates)\n"
   ]
  },
  {
   "cell_type": "markdown",
   "id": "84e2d59a",
   "metadata": {},
   "source": [
    "📌 *Check the output for detailed predictions.*"
   ]
  },
  {
   "cell_type": "code",
   "execution_count": 14,
   "id": "110bf5e7-9af8-4602-b7ea-9ce6b895cb88",
   "metadata": {},
   "outputs": [
    {
     "name": "stdout",
     "output_type": "stream",
     "text": [
      "     year  month  day  day_of_week  is_weekend        so2        no2  \\\n",
      "0    2025      4    1            1           0  10.618102  24.238907   \n",
      "1    2025      4    2            2           0  19.260715  40.313844   \n",
      "2    2025      4    3            3           0  15.979909  10.575740   \n",
      "3    2025      4    4            4           0  13.979877  14.642906   \n",
      "4    2025      4    5            5           1   7.340280  11.840106   \n",
      "..    ...    ...  ...          ...         ...        ...        ...   \n",
      "325  2035      4   26            5           1  16.068454  15.103212   \n",
      "326  2035      4   27            6           1  13.315311  21.351036   \n",
      "327  2035      4   28            0           0  14.175811  24.523292   \n",
      "328  2035      4   29            1           0  11.294001  35.836690   \n",
      "329  2035      4   30            2           0   8.715965  32.831132   \n",
      "\n",
      "         pm2_5  Predicted_AQI  \n",
      "0    47.804836      79.724138  \n",
      "1    79.325762     162.651153  \n",
      "2    60.288741     100.000000  \n",
      "3    41.861340      69.356612  \n",
      "4    35.089124      57.870138  \n",
      "..         ...            ...  \n",
      "325  54.774566      91.558821  \n",
      "326  64.420120     111.302828  \n",
      "327  51.741367      86.731701  \n",
      "328  42.320102      66.744499  \n",
      "329  70.955116     134.885310  \n",
      "\n",
      "[330 rows x 9 columns]\n"
     ]
    }
   ],
   "source": [
    "\n",
    "# Show Future AQI Predictions\n",
    "print(future_dates)\n"
   ]
  },
  {
   "cell_type": "markdown",
   "id": "de84168d",
   "metadata": {},
   "source": [
    "## 📈 Predicted AQI Trend (2025-2035)  \n",
    "\n",
    "This graph visualizes the **future AQI predictions** for April from **2025 to 2035** using the trained model.  \n",
    "\n",
    "- **X-axis:** Represents the **year** from 2025 to 2035.  \n",
    "- **Y-axis:** Shows the **predicted AQI values** for each year.  \n",
    "- **Trend Line:** Helps in identifying patterns in air quality over time.  \n",
    "\n",
    "📌 *This can be useful for tracking pollution trends and planning air quality management strategies.*  \n"
   ]
  },
  {
   "cell_type": "code",
   "execution_count": 15,
   "id": "1bc95605",
   "metadata": {},
   "outputs": [
    {
     "data": {
      "image/png": "[encoded data removed]",
      "text/plain": [
       "<Figure size 1000x500 with 1 Axes>"
      ]
     },
     "metadata": {},
     "output_type": "display_data"
    }
   ],
   "source": [
    "# Plot Predicted AQI Trend from 2025 to 2035\n",
    "plt.figure(figsize=(10, 5))  # Set figure size\n",
    "\n",
    "# Line plot for predicted AQI values\n",
    "sns.lineplot(x=future_dates['year'], y=future_dates['Predicted_AQI'], marker='o', color='b')\n",
    "\n",
    "# Add title and labels for better readability\n",
    "plt.title(\"Predicted AQI Trend (2025-2035)\")  # Set plot title\n",
    "plt.xlabel(\"Year\")  # X-axis represents the years\n",
    "plt.ylabel(\"Predicted AQI\")  # Y-axis represents the predicted AQI values\n",
    "\n",
    "# Add grid for better visualization\n",
    "plt.grid(True)\n",
    "\n",
    "# Show the plot\n",
    "plt.show()\n"
   ]
  },
  {
   "cell_type": "markdown",
   "id": "e0d9f0b0",
   "metadata": {},
   "source": [
    "### 💾 **Saving the Trained AQI Prediction Model**  \n",
    "\n",
    "This code saves the trained Random Forest model so it can be reused later without retraining.  \n",
    "\n",
    "📌 **Why Save the Model?**  \n",
    "✔️ Saves time by avoiding retraining.  \n",
    "✔️ Can be loaded later for predictions on new data.  \n",
    "✔️ Useful for deployment in applications or APIs."
   ]
  },
  {
   "cell_type": "code",
   "execution_count": 17,
   "id": "795839fa",
   "metadata": {},
   "outputs": [
    {
     "name": "stdout",
     "output_type": "stream",
     "text": [
      "Model saved at: /Users/aameyadevansh/Desktop/TrainIT/model/aqi_model.pkl\n"
     ]
    }
   ],
   "source": [
    "import os\n",
    "import pickle\n",
    "\n",
    "# Define the model directory path relative to the current working directory\n",
    "model_dir = os.path.join(os.getcwd(), \"../model/\")  \n",
    "\n",
    "# Convert to an absolute path for consistency\n",
    "model_dir = os.path.abspath(model_dir)  \n",
    "\n",
    "# Ensure the directory exists (create if missing)\n",
    "os.makedirs(model_dir, exist_ok=True)  \n",
    "\n",
    "# Define the full path for saving the model\n",
    "model_path = os.path.join(model_dir, \"aqi_model.pkl\")  \n",
    "\n",
    "# Open the file in write-binary mode and save the model using pickle\n",
    "with open(model_path, \"wb\") as f:\n",
    "    pickle.dump(best_rf, f)  \n",
    "\n",
    "# Confirm the model has been saved successfully\n",
    "print(f\"Model saved at: {model_path}\")  \n"
   ]
  }
 ],
 "metadata": {
  "kernelspec": {
   "display_name": "base",
   "language": "python",
   "name": "python3"
  },
  "language_info": {
   "codemirror_mode": {
    "name": "ipython",
    "version": 3
   },
   "file_extension": ".py",
   "mimetype": "text/x-python",
   "name": "python",
   "nbconvert_exporter": "python",
   "pygments_lexer": "ipython3",
   "version": "3.9.6"
  }
 },
 "nbformat": 4,
 "nbformat_minor": 5
}
